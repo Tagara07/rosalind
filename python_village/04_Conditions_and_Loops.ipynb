{
 "cells": [
  {
   "cell_type": "markdown",
   "metadata": {},
   "source": [
    "Conditions and Loops"
   ]
  },
  {
   "cell_type": "code",
   "execution_count": 1,
   "metadata": {},
   "outputs": [],
   "source": [
    "with open(r'./data/04_rosalind_ini4.txt', 'r') as f:\n",
    "    file = f.read()\n",
    "    file = file.replace('\\n', '').split(' ')\n",
    "    a = int(file[0])\n",
    "    b = int(file[1])\n",
    "    f.close()"
   ]
  },
  {
   "cell_type": "code",
   "execution_count": 4,
   "metadata": {},
   "outputs": [
    {
     "name": "stdout",
     "output_type": "stream",
     "text": [
      "a: 4621\n",
      "b: 8958\n",
      "14725341\n"
     ]
    }
   ],
   "source": [
    "num_ls = []\n",
    "for num in range(a, b+1):\n",
    "    if num % 2 != 0:\n",
    "        num_ls.append(num)\n",
    "print(f'a: {a}')\n",
    "print(f'b: {b}')\n",
    "print(sum(num_ls))"
   ]
  }
 ],
 "metadata": {
  "kernelspec": {
   "display_name": "Python 3",
   "language": "python",
   "name": "python3"
  },
  "language_info": {
   "codemirror_mode": {
    "name": "ipython",
    "version": 3
   },
   "file_extension": ".py",
   "mimetype": "text/x-python",
   "name": "python",
   "nbconvert_exporter": "python",
   "pygments_lexer": "ipython3",
   "version": "3.9.2rc1"
  }
 },
 "nbformat": 4,
 "nbformat_minor": 2
}
