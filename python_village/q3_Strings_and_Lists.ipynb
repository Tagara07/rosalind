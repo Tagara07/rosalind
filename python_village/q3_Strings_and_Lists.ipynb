{
 "cells": [
  {
   "cell_type": "markdown",
   "metadata": {},
   "source": [
    "Strings and Lists"
   ]
  },
  {
   "cell_type": "code",
   "execution_count": 38,
   "metadata": {},
   "outputs": [],
   "source": [
    "with open(r'./data/ini3_rosalind_ini3.txt') as f:\n",
    "    file = f.readlines()\n",
    "    str = file[0]\n",
    "    num_ls = file[1].replace('\\n', '').split(' ')\n",
    "    a = int(num_ls[0])\n",
    "    b = int(num_ls[1])\n",
    "    c = int(num_ls[2])\n",
    "    d = int(num_ls[3])\n",
    "    f.close()"
   ]
  },
  {
   "cell_type": "code",
   "execution_count": 8,
   "metadata": {},
   "outputs": [],
   "source": [
    "str = 'HumptyDumptysatonawallHumptyDumptyhadagreatfallAlltheKingshorsesandalltheKingsmenCouldntputHumptyDumptyinhisplaceagain.'\n",
    "a = 22 \n",
    "b = 27 \n",
    "c = 97 \n",
    "d = 102"
   ]
  },
  {
   "cell_type": "code",
   "execution_count": 39,
   "metadata": {},
   "outputs": [],
   "source": [
    "def str_slice(str, a, b, c, d):\n",
    "    print(f'{str[a:b+1]} {str[c:d+1]}')"
   ]
  },
  {
   "cell_type": "code",
   "execution_count": 40,
   "metadata": {},
   "outputs": [
    {
     "name": "stdout",
     "output_type": "stream",
     "text": [
      "Bombina dentata\n"
     ]
    }
   ],
   "source": [
    "str_slice(str, a, b, c, d)"
   ]
  }
 ],
 "metadata": {
  "kernelspec": {
   "display_name": "Python 3",
   "language": "python",
   "name": "python3"
  },
  "language_info": {
   "codemirror_mode": {
    "name": "ipython",
    "version": 3
   },
   "file_extension": ".py",
   "mimetype": "text/x-python",
   "name": "python",
   "nbconvert_exporter": "python",
   "pygments_lexer": "ipython3",
   "version": "3.9.2rc1"
  }
 },
 "nbformat": 4,
 "nbformat_minor": 2
}
