{
 "cells": [
  {
   "cell_type": "markdown",
   "metadata": {},
   "source": [
    "[Consensus and Profile](https://rosalind.info/problems/cons/)"
   ]
  },
  {
   "cell_type": "code",
   "execution_count": 76,
   "metadata": {},
   "outputs": [],
   "source": [
    "from Bio import SeqIO\n",
    "import jun_function as jf"
   ]
  },
  {
   "cell_type": "code",
   "execution_count": 89,
   "metadata": {},
   "outputs": [],
   "source": [
    "recs = list(SeqIO.parse(r'./data/10_rosalind_cons.txt', 'fasta'))"
   ]
  },
  {
   "cell_type": "code",
   "execution_count": 90,
   "metadata": {},
   "outputs": [],
   "source": [
    "def gen_profile_matrix(recs):\n",
    "\n",
    "    seq_len = len(recs[0].seq)\n",
    "\n",
    "    profile_matrix = {\n",
    "        'A':[0]*seq_len,\n",
    "        'C':[0]*seq_len,\n",
    "        'G':[0]*seq_len,\n",
    "        'T':[0]*seq_len\n",
    "    }\n",
    "\n",
    "    for rec in recs:\n",
    "        for pos, nt in enumerate(rec.seq):\n",
    "            profile_matrix[nt][pos] += 1\n",
    "    return profile_matrix\n",
    "\n",
    "def gen_consensus(profile_matrix):\n",
    "    \n",
    "    result = []\n",
    "    seq_len = len(recs[0].seq)\n",
    "    \n",
    "    for pos in range(seq_len):\n",
    "        max_count = 0\n",
    "        max_nt = None\n",
    "        for nt in ['A', 'C', 'G', 'T']:\n",
    "            count = profile_matrix[nt][pos]\n",
    "            if count > max_count:\n",
    "                max_count = count\n",
    "                max_nt = nt\n",
    "        result.append(max_nt)\n",
    "    \n",
    "    consensus_str = ''.join(result)\n",
    "    \n",
    "    return consensus_str\n",
    "\n",
    "def gen_profile_str(profile_matrix):\n",
    "\n",
    "    profile_str = ''\n",
    "\n",
    "    nt_list = ['A', 'C', 'G', 'T']\n",
    "\n",
    "    for nt in nt_list:\n",
    "        # print(nt)\n",
    "        str_tmp = f'{nt}: ' + ' '.join([str(num) for num in profile_matrix[f'{nt}']]) + '\\n'\n",
    "        # print(str_tmp)\n",
    "        profile_str = profile_str + str_tmp\n",
    "\n",
    "    return profile_str"
   ]
  },
  {
   "cell_type": "code",
   "execution_count": 91,
   "metadata": {},
   "outputs": [],
   "source": [
    "profile_matrix = gen_profile_matrix(recs)\n",
    "consensus_str = gen_consensus(profile_matrix)\n",
    "profile_str = gen_profile_str(profile_matrix)\n",
    "\n",
    "result_str = consensus_str + '\\n' + profile_str\n",
    "\n",
    "jf.gen_txt(result_str)"
   ]
  }
 ],
 "metadata": {
  "kernelspec": {
   "display_name": "Python 3",
   "language": "python",
   "name": "python3"
  },
  "language_info": {
   "codemirror_mode": {
    "name": "ipython",
    "version": 3
   },
   "file_extension": ".py",
   "mimetype": "text/x-python",
   "name": "python",
   "nbconvert_exporter": "python",
   "pygments_lexer": "ipython3",
   "version": "3.9.2rc1"
  }
 },
 "nbformat": 4,
 "nbformat_minor": 2
}
