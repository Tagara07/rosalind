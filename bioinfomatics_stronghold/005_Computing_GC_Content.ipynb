{
 "cells": [
  {
   "cell_type": "markdown",
   "metadata": {},
   "source": [
    "[Computing GC Content](https://rosalind.info/problems/gc/)"
   ]
  },
  {
   "cell_type": "markdown",
   "metadata": {},
   "source": [
    "Solution 1"
   ]
  },
  {
   "cell_type": "code",
   "execution_count": 3,
   "metadata": {},
   "outputs": [],
   "source": [
    "# import pandas as pd"
   ]
  },
  {
   "cell_type": "code",
   "execution_count": 1,
   "metadata": {},
   "outputs": [],
   "source": [
    "with open(r'./data/05_rosalind_gc.txt', 'r') as f:\n",
    "    lines = f.readlines()\n",
    "    f.close()"
   ]
  },
  {
   "cell_type": "code",
   "execution_count": 4,
   "metadata": {},
   "outputs": [],
   "source": [
    "def read_fasta(lines):\n",
    "    idx_ls = []\n",
    "    seq_ls = []\n",
    "    tmp_seq = ''\n",
    "\n",
    "    for line in lines:\n",
    "        if '>' in line:\n",
    "            idx_ls.append(line[1:].strip())\n",
    "            seq_ls.append(tmp_seq.strip())\n",
    "            tmp_seq = ''\n",
    "        else:\n",
    "            tmp_seq += line.strip()\n",
    "    seq_ls.append(tmp_seq.strip())\n",
    "    del seq_ls[0]\n",
    "    return idx_ls, seq_ls\n",
    "\n",
    "def gc_content(seq):\n",
    "    gc_fraction = (seq.count('C') + seq.count('G')) / len(seq) * 100\n",
    "    gc_fraction = round(gc_fraction, 6)\n",
    "    return gc_fraction"
   ]
  },
  {
   "cell_type": "code",
   "execution_count": 5,
   "metadata": {},
   "outputs": [
    {
     "name": "stdout",
     "output_type": "stream",
     "text": [
      "Rosalind_8633\n",
      "51.741803\n"
     ]
    }
   ],
   "source": [
    "id_ls, seq_ls = read_fasta(lines)\n",
    "\n",
    "gc_ls = []\n",
    "\n",
    "for seq_tmp in seq_ls:\n",
    "    gc_ls.append(gc_content(seq_tmp))\n",
    "\n",
    "max_gc = max(gc_ls) # max gc content\n",
    "max_idx = gc_ls.index(max_gc) # max gc content index\n",
    "max_id = id_ls[max_idx]\n",
    "\n",
    "print(max_id)\n",
    "print(max_gc)\n",
    "\n",
    "# df = pd.DataFrame(zip(id_ls, seq_ls), columns=('ID', 'seq'))\n",
    "\n",
    "# df['gc_fraction'] = df['seq'].apply(lambda x: gc_content(x))\n",
    "# df_sorted = df.sort_values(by=['gc_fraction'], ascending=False).reset_index().drop('index', axis=1)\n",
    "\n",
    "# print(df_sorted.loc[0,'ID'])\n",
    "# print(df_sorted.loc[0,'gc_fraction'])"
   ]
  },
  {
   "cell_type": "markdown",
   "metadata": {},
   "source": [
    "Solution 2"
   ]
  },
  {
   "cell_type": "code",
   "execution_count": 6,
   "metadata": {},
   "outputs": [],
   "source": [
    "from Bio import SeqIO\n",
    "from Bio.SeqUtils import gc_fraction"
   ]
  },
  {
   "cell_type": "code",
   "execution_count": 8,
   "metadata": {},
   "outputs": [],
   "source": [
    "recs = list(SeqIO.parse(r'./data/05_rosalind_gc.txt', 'fasta'))"
   ]
  },
  {
   "cell_type": "code",
   "execution_count": 9,
   "metadata": {},
   "outputs": [
    {
     "name": "stdout",
     "output_type": "stream",
     "text": [
      "Rosalind_8633\n",
      "51.741803\n"
     ]
    }
   ],
   "source": [
    "id_ls = []\n",
    "seq_ls = []\n",
    "gc_ls = []\n",
    "for rec in recs:\n",
    "    id_ls.append(rec.id)\n",
    "    seq_ls.append(rec.seq)\n",
    "    gc_ls.append(round(gc_fraction(rec.seq)*100, 6))\n",
    "\n",
    "max_gc = max(gc_ls) # max gc content\n",
    "max_idx = gc_ls.index(max_gc) # max gc content index\n",
    "max_id = id_ls[max_idx]\n",
    "\n",
    "print(max_id)\n",
    "print(max_gc)\n",
    "\n",
    "# df = pd.DataFrame(zip(id_ls, seq_ls, gc_ls), columns=('ID', 'seq', 'gc_fraction'))\n",
    "# df_sorted = df.sort_values(by=['gc_fraction'], ascending=False).reset_index().drop('index', axis=1)\n",
    "\n",
    "# print(df_sorted.loc[0,'ID'])\n",
    "# print(df_sorted.loc[0,'gc_fraction'])"
   ]
  },
  {
   "cell_type": "code",
   "execution_count": null,
   "metadata": {},
   "outputs": [],
   "source": []
  }
 ],
 "metadata": {
  "kernelspec": {
   "display_name": "Python 3",
   "language": "python",
   "name": "python3"
  },
  "language_info": {
   "codemirror_mode": {
    "name": "ipython",
    "version": 3
   },
   "file_extension": ".py",
   "mimetype": "text/x-python",
   "name": "python",
   "nbconvert_exporter": "python",
   "pygments_lexer": "ipython3",
   "version": "3.9.2rc1"
  }
 },
 "nbformat": 4,
 "nbformat_minor": 2
}
