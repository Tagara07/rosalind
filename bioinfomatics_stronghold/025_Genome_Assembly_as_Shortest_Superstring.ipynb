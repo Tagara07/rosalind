{
 "cells": [
  {
   "cell_type": "markdown",
   "metadata": {},
   "source": [
    "[Genome Assembly as Shortest Superstring](https://rosalind.info/problems/long/)"
   ]
  },
  {
   "cell_type": "code",
   "execution_count": 13,
   "metadata": {},
   "outputs": [],
   "source": [
    "from Bio import SeqIO\n",
    "\n",
    "import jun_function as jf "
   ]
  },
  {
   "cell_type": "code",
   "execution_count": 14,
   "metadata": {},
   "outputs": [],
   "source": [
    "recs = list(SeqIO.parse(r'./data/25_rosalind_long.txt', 'fasta'))\n",
    "seq_list = list(str(rec.seq) for rec in recs)\n",
    "# seq_list.sort(key=len, reverse=True)"
   ]
  },
  {
   "cell_type": "code",
   "execution_count": 15,
   "metadata": {},
   "outputs": [],
   "source": [
    "def find_overlaps(seq_list):\n",
    "    overlaps_list = []\n",
    "    overlapping_list = []\n",
    "\n",
    "    for i in range(len(seq_list)):\n",
    "        curr_seq = seq_list[i]\n",
    "        for j in range(len(curr_seq) // 2, len(curr_seq)):\n",
    "            curr_suffix = curr_seq[-(j+1):]\n",
    "            for k in range(len(seq_list)):\n",
    "                curr_comp = seq_list[k]\n",
    "                for l in range(len(curr_comp)//2, len(curr_comp)):\n",
    "                    if i != k:\n",
    "                        curr_prefix = curr_comp[:l+1]            \n",
    "                        if curr_suffix == curr_prefix:\n",
    "                            overlaps_list.append(k)\n",
    "                            overlapping_list.append([len(curr_suffix), i, k])\n",
    "\n",
    "    return overlaps_list, overlapping_list\n",
    "\n",
    "def gen_superstring(seq_list):\n",
    "\n",
    "    overlaps_list, overlapping_list = find_overlaps(seq_list)\n",
    "    \n",
    "    s = set(overlaps_list)\n",
    "\n",
    "    first_read = ''\n",
    "    count = len(overlapping_list)\n",
    "\n",
    "    for m in range(len(overlapping_list)):\n",
    "        suf_index = overlapping_list[m][1] \n",
    "        if suf_index not in s:\n",
    "            first_read = suf_index\n",
    "            res_str = seq_list[overlapping_list[m][1]] + seq_list[overlapping_list[m][2]][overlapping_list[m][0]:]\n",
    "            count -= 1\n",
    "            \n",
    "            pref_index = overlapping_list[m][2]\n",
    "            while count > 0:\n",
    "                for n in range(len(overlapping_list)):\n",
    "                    if pref_index == overlapping_list[n][1]:   \n",
    "                        res_str += seq_list[overlapping_list[n][2]][overlapping_list[n][0]:] \n",
    "                        pref_index = overlapping_list[n][2]            \n",
    "                        count -= 1\n",
    "                        \n",
    "    return res_str"
   ]
  },
  {
   "cell_type": "code",
   "execution_count": 16,
   "metadata": {},
   "outputs": [],
   "source": [
    "res_str = gen_superstring(seq_list)\n",
    "jf.gen_txt(res_str)"
   ]
  }
 ],
 "metadata": {
  "kernelspec": {
   "display_name": "Python 3",
   "language": "python",
   "name": "python3"
  },
  "language_info": {
   "codemirror_mode": {
    "name": "ipython",
    "version": 3
   },
   "file_extension": ".py",
   "mimetype": "text/x-python",
   "name": "python",
   "nbconvert_exporter": "python",
   "pygments_lexer": "ipython3",
   "version": "3.9.2"
  }
 },
 "nbformat": 4,
 "nbformat_minor": 2
}
