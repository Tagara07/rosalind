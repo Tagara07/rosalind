{
 "cells": [
  {
   "cell_type": "markdown",
   "metadata": {},
   "source": [
    "[Longest Increasing Subsequence](https://rosalind.info/problems/lgis/)"
   ]
  },
  {
   "cell_type": "code",
   "execution_count": 1,
   "metadata": {},
   "outputs": [],
   "source": [
    "import jun_function as jf\n",
    "\n",
    "from itertools import combinations"
   ]
  },
  {
   "cell_type": "code",
   "execution_count": 2,
   "metadata": {},
   "outputs": [],
   "source": [
    "with open(r'./data/24_rosalind_lgis.txt', 'r') as f:\n",
    "    file = f.readlines()\n",
    "    f.close()\n",
    "\n",
    "n = int(file[0].replace('\\n', ''))\n",
    "seq_str = file[1]\n",
    "seq_list = [int(num) for num in seq_str.split(' ')]"
   ]
  },
  {
   "cell_type": "markdown",
   "metadata": {},
   "source": [
    "Solution 1"
   ]
  },
  {
   "cell_type": "code",
   "execution_count": 180,
   "metadata": {},
   "outputs": [],
   "source": [
    "def LIS1(n, seq_list):\n",
    "    \n",
    "    list_asc = []\n",
    "    list_dsc = []\n",
    "    bl = False\n",
    "    bl2 = False\n",
    "\n",
    "    for i in reversed(range(2, n+1)):\n",
    "        # tuples\n",
    "        for j in combinations(seq_list, r=i):\n",
    "            if list(j) == sorted(j) and not bl:\n",
    "                list_asc.append(j)\n",
    "                bl = True\n",
    "            if list(j) == sorted(j, reverse=True) and not bl2:\n",
    "                list_dsc.append(j)\n",
    "                bl2 = True\n",
    "        if bl and bl2:\n",
    "            break\n",
    "\n",
    "    asc_str = ' '.join(str(i)for i in list_asc[0])\n",
    "    dsc_str = ' '.join(str(i)for i in list_dsc[0])\n",
    "\n",
    "    return asc_str + '\\n' + dsc_str"
   ]
  },
  {
   "cell_type": "code",
   "execution_count": null,
   "metadata": {},
   "outputs": [],
   "source": [
    "res_str = LIS1(n, seq_list)\n",
    "jf.gen_txt(res_str)"
   ]
  },
  {
   "cell_type": "markdown",
   "metadata": {},
   "source": [
    "Solution 2"
   ]
  },
  {
   "cell_type": "code",
   "execution_count": 6,
   "metadata": {},
   "outputs": [],
   "source": [
    "def LIS2(n, seq_list):\n",
    "\n",
    "    LIS = [1] * n\n",
    "\n",
    "    for i in range(n-1, -1, -1):\n",
    "        for j in range(i+1, len(seq_list)):\n",
    "            if seq_list[i] < seq_list[j]:\n",
    "                LIS[i] = max(LIS[i], LIS[j]+1)\n",
    "\n",
    "    res_list = []\n",
    "    cur_len = max(LIS)\n",
    "    for k in range(n):\n",
    "        if cur_len == LIS[k]:\n",
    "            res_list.append(seq_list[k])\n",
    "            cur_len -= 1\n",
    "\n",
    "    return res_list"
   ]
  },
  {
   "cell_type": "code",
   "execution_count": 8,
   "metadata": {},
   "outputs": [],
   "source": [
    "asc_list = LIS2(n, seq_list)\n",
    "dsc_list = LIS2(n, seq_list[::-1])[::-1]\n",
    "res_str = ' '.join(str(i) for i in asc_list) + '\\n' + ' '.join(str(j) for j in dsc_list)\n",
    "jf.gen_txt(res_str)"
   ]
  }
 ],
 "metadata": {
  "kernelspec": {
   "display_name": "Python 3",
   "language": "python",
   "name": "python3"
  },
  "language_info": {
   "codemirror_mode": {
    "name": "ipython",
    "version": 3
   },
   "file_extension": ".py",
   "mimetype": "text/x-python",
   "name": "python",
   "nbconvert_exporter": "python",
   "pygments_lexer": "ipython3",
   "version": "3.9.2rc1"
  }
 },
 "nbformat": 4,
 "nbformat_minor": 2
}
