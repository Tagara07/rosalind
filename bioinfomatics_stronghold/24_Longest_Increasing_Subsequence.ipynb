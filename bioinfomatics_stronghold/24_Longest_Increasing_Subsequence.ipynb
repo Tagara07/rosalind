{
 "cells": [
  {
   "cell_type": "markdown",
   "metadata": {},
   "source": [
    "[Longest Increasing Subsequence](https://rosalind.info/problems/lgis/)"
   ]
  },
  {
   "cell_type": "code",
   "execution_count": 1,
   "metadata": {},
   "outputs": [],
   "source": [
    "import jun_function as jf\n",
    "\n",
    "from itertools import combinations"
   ]
  },
  {
   "cell_type": "code",
   "execution_count": 2,
   "metadata": {},
   "outputs": [],
   "source": [
    "with open(r'./data/24_rosalind_lgis.txt', 'r') as f:\n",
    "    file = f.readlines()\n",
    "    f.close()\n",
    "\n",
    "n = int(file[0].replace('\\n', ''))\n",
    "seq_str = file[1]\n",
    "seq_list = [int(num) for num in seq_str.split(' ')]"
   ]
  },
  {
   "cell_type": "code",
   "execution_count": 6,
   "metadata": {},
   "outputs": [],
   "source": [
    "def LIS(n, seq_list):\n",
    "\n",
    "    LIS = [1] * n\n",
    "\n",
    "    for i in range(n-1, -1, -1):\n",
    "        for j in range(i+1, len(seq_list)):\n",
    "            if seq_list[i] < seq_list[j]:\n",
    "                LIS[i] = max(LIS[i], LIS[j]+1)\n",
    "\n",
    "    res_list = []\n",
    "    cur_len = max(LIS)\n",
    "    for k in range(n):\n",
    "        if cur_len == LIS[k]:\n",
    "            res_list.append(seq_list[k])\n",
    "            cur_len -= 1\n",
    "\n",
    "    return res_list"
   ]
  },
  {
   "cell_type": "code",
   "execution_count": 8,
   "metadata": {},
   "outputs": [],
   "source": [
    "asc_list = LIS(n, seq_list)\n",
    "dsc_list = LIS(n, seq_list[::-1])[::-1]\n",
    "res_str = ' '.join(str(i) for i in asc_list) + '\\n' + ' '.join(str(j) for j in dsc_list)\n",
    "jf.gen_txt(res_str)"
   ]
  }
 ],
 "metadata": {
  "kernelspec": {
   "display_name": "Python 3",
   "language": "python",
   "name": "python3"
  },
  "language_info": {
   "codemirror_mode": {
    "name": "ipython",
    "version": 3
   },
   "file_extension": ".py",
   "mimetype": "text/x-python",
   "name": "python",
   "nbconvert_exporter": "python",
   "pygments_lexer": "ipython3",
   "version": "3.9.2"
  }
 },
 "nbformat": 4,
 "nbformat_minor": 2
}
