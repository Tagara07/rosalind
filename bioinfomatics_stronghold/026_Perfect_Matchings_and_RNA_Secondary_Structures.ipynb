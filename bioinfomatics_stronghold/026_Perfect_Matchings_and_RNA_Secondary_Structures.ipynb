{
 "cells": [
  {
   "cell_type": "markdown",
   "metadata": {},
   "source": [
    "[Perfect Matchings and RNA Secondary Structures](https://rosalind.info/problems/pmch/)"
   ]
  },
  {
   "cell_type": "code",
   "execution_count": 15,
   "metadata": {},
   "outputs": [],
   "source": [
    "from Bio import SeqIO\n",
    "from math import factorial\n",
    "import jun_function as jf"
   ]
  },
  {
   "cell_type": "code",
   "execution_count": 19,
   "metadata": {},
   "outputs": [],
   "source": [
    "recs = list(SeqIO.parse(r'./data/26_rosalind_pmch.txt', 'fasta'))\n",
    "rec = str(recs[0].seq)"
   ]
  },
  {
   "cell_type": "code",
   "execution_count": 20,
   "metadata": {},
   "outputs": [],
   "source": [
    "def perfect_match(rec):\n",
    "    count_au = 0\n",
    "    count_cg = 0\n",
    "\n",
    "    for nt in rec:\n",
    "        if nt == 'A':\n",
    "            count_au += 1\n",
    "        elif nt == 'C':\n",
    "            count_cg += 1\n",
    "        else:\n",
    "            pass\n",
    "\n",
    "    count_match = factorial(count_au) * factorial(count_cg)\n",
    "\n",
    "    return count_match"
   ]
  },
  {
   "cell_type": "code",
   "execution_count": 21,
   "metadata": {},
   "outputs": [],
   "source": [
    "res = str(perfect_match(rec))\n",
    "jf.gen_txt(res)"
   ]
  }
 ],
 "metadata": {
  "kernelspec": {
   "display_name": "Python 3",
   "language": "python",
   "name": "python3"
  },
  "language_info": {
   "codemirror_mode": {
    "name": "ipython",
    "version": 3
   },
   "file_extension": ".py",
   "mimetype": "text/x-python",
   "name": "python",
   "nbconvert_exporter": "python",
   "pygments_lexer": "ipython3",
   "version": "3.9.2rc1"
  }
 },
 "nbformat": 4,
 "nbformat_minor": 2
}
