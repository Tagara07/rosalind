{
 "cells": [
  {
   "cell_type": "markdown",
   "metadata": {},
   "source": [
    "[Independent Alleles](https://rosalind.info/problems/lia/)"
   ]
  },
  {
   "cell_type": "code",
   "execution_count": 13,
   "metadata": {},
   "outputs": [],
   "source": [
    "import jun_function as jf\n",
    "import math"
   ]
  },
  {
   "cell_type": "code",
   "execution_count": 30,
   "metadata": {},
   "outputs": [
    {
     "name": "stdout",
     "output_type": "stream",
     "text": [
      "5 9\n"
     ]
    }
   ],
   "source": [
    "file = jf.read_data(r'./data/15_rosalind_lia.txt')\n",
    "k, N = [int(num) for num in file.replace('\\n', '').split(' ')]\n",
    "print(k, N)"
   ]
  },
  {
   "cell_type": "code",
   "execution_count": 31,
   "metadata": {},
   "outputs": [],
   "source": [
    "def nCr(n, k):\n",
    "    f = math.factorial\n",
    "    return f(n) / (f(k) * f(n-k))\n",
    "\n",
    "def prob_het(k, N):\n",
    "\n",
    "    prob_AaBb = 0.25\n",
    "\n",
    "    prob_list = []\n",
    "    total_num = 2**k\n",
    "\n",
    "    for i in range(N, total_num+1):\n",
    "        prob_list.append(nCr(total_num, i) * \n",
    "                         (prob_AaBb**i) * \n",
    "                         ((1-prob_AaBb)**(total_num-i)))\n",
    "\n",
    "    return round(sum(prob_list), 3)"
   ]
  },
  {
   "cell_type": "code",
   "execution_count": 32,
   "metadata": {},
   "outputs": [
    {
     "data": {
      "text/plain": [
       "0.406"
      ]
     },
     "execution_count": 32,
     "metadata": {},
     "output_type": "execute_result"
    }
   ],
   "source": [
    "prob_het(k, N)"
   ]
  }
 ],
 "metadata": {
  "kernelspec": {
   "display_name": "Python 3",
   "language": "python",
   "name": "python3"
  },
  "language_info": {
   "codemirror_mode": {
    "name": "ipython",
    "version": 3
   },
   "file_extension": ".py",
   "mimetype": "text/x-python",
   "name": "python",
   "nbconvert_exporter": "python",
   "pygments_lexer": "ipython3",
   "version": "3.9.2rc1"
  }
 },
 "nbformat": 4,
 "nbformat_minor": 2
}
