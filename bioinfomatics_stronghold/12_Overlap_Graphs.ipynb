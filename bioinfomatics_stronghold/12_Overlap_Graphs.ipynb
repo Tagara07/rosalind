{
 "cells": [
  {
   "cell_type": "markdown",
   "metadata": {},
   "source": [
    "[Overlap Graphs](https://rosalind.info/problems/grph/)"
   ]
  },
  {
   "cell_type": "code",
   "execution_count": 71,
   "metadata": {},
   "outputs": [],
   "source": [
    "import jun_function as jf\n",
    "\n",
    "from Bio import SeqIO\n",
    "from itertools import combinations"
   ]
  },
  {
   "cell_type": "code",
   "execution_count": 78,
   "metadata": {},
   "outputs": [],
   "source": [
    "seq_list = list(SeqIO.parse(r'./data/12_rosalind_grph.txt', 'fasta'))"
   ]
  },
  {
   "cell_type": "code",
   "execution_count": 80,
   "metadata": {},
   "outputs": [],
   "source": [
    "rec_id = []\n",
    "rec_seq = []\n",
    "\n",
    "for rec in seq_list:\n",
    "    rec_id.append(rec.id)\n",
    "    rec_seq.append(rec.seq)\n",
    "    \n",
    "rec_dict = dict(zip(rec_id, rec_seq))"
   ]
  },
  {
   "cell_type": "code",
   "execution_count": 75,
   "metadata": {},
   "outputs": [],
   "source": [
    "def is_k_overlap(seq1, seq2, k):\n",
    "    return seq1[-k:] == seq2[:k]\n",
    "\n",
    "def k_edges(rec_dict, k):\n",
    "    \n",
    "    edges_list = []\n",
    "\n",
    "    for s, t in combinations(rec_dict, 2):    \n",
    "\n",
    "        s_rec, t_rec = rec_dict[s], rec_dict[t]\n",
    "\n",
    "        if is_k_overlap(s_rec, t_rec, k):\n",
    "            edges_list.append((s, t))\n",
    "\n",
    "        if is_k_overlap(t_rec, s_rec, k):\n",
    "            edges_list.append((t, s))\n",
    "\n",
    "    return edges_list"
   ]
  },
  {
   "cell_type": "code",
   "execution_count": 81,
   "metadata": {},
   "outputs": [],
   "source": [
    "edges_list = k_edges(rec_dict, 3)\n",
    "\n",
    "edges_str = ''\n",
    "for i in range(len(edges_list)):\n",
    "    edges_str += ' '.join(list(edges_list[i])) + '\\n'"
   ]
  },
  {
   "cell_type": "code",
   "execution_count": 82,
   "metadata": {},
   "outputs": [],
   "source": [
    "jf.gen_txt(edges_str)"
   ]
  }
 ],
 "metadata": {
  "kernelspec": {
   "display_name": "Python 3",
   "language": "python",
   "name": "python3"
  },
  "language_info": {
   "codemirror_mode": {
    "name": "ipython",
    "version": 3
   },
   "file_extension": ".py",
   "mimetype": "text/x-python",
   "name": "python",
   "nbconvert_exporter": "python",
   "pygments_lexer": "ipython3",
   "version": "3.9.2rc1"
  }
 },
 "nbformat": 4,
 "nbformat_minor": 2
}
