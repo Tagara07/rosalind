{
 "cells": [
  {
   "cell_type": "markdown",
   "metadata": {},
   "source": [
    "[RNA Splicing](https://rosalind.info/problems/splc/)"
   ]
  },
  {
   "cell_type": "code",
   "execution_count": 43,
   "metadata": {},
   "outputs": [],
   "source": [
    "import jun_function as jf\n",
    "from Bio import SeqIO\n",
    "import re"
   ]
  },
  {
   "cell_type": "code",
   "execution_count": 46,
   "metadata": {},
   "outputs": [],
   "source": [
    "recs = list(SeqIO.parse(r'./data/22_rosalind_splc.txt', 'fasta'))"
   ]
  },
  {
   "cell_type": "code",
   "execution_count": 47,
   "metadata": {},
   "outputs": [],
   "source": [
    "def rna_splicing(recs):\n",
    "    id_list = []\n",
    "    seq_list = []\n",
    "\n",
    "    for rec in recs:\n",
    "        id_list.append(rec.id)\n",
    "        seq_list.append(rec.seq)\n",
    "\n",
    "    seq_tar = seq_list[0]\n",
    "\n",
    "    for i in seq_list[1:]:\n",
    "        seq_tar = seq_tar.replace(i, '')\n",
    "\n",
    "    start_pos = seq_tar.find('ATG')\n",
    "\n",
    "    seq_tar = seq_tar[start_pos:]\n",
    "    protein_tar = seq_tar.translate()\n",
    "\n",
    "    pattern = re.compile('[A-Z]*(?<![*])')\n",
    "    protein_tar = pattern.search(str(protein_tar)).group()\n",
    "\n",
    "    return protein_tar"
   ]
  },
  {
   "cell_type": "code",
   "execution_count": 48,
   "metadata": {},
   "outputs": [],
   "source": [
    "protein_tar = rna_splicing(recs)\n",
    "jf.gen_txt(protein_tar)"
   ]
  }
 ],
 "metadata": {
  "kernelspec": {
   "display_name": "Python 3",
   "language": "python",
   "name": "python3"
  },
  "language_info": {
   "codemirror_mode": {
    "name": "ipython",
    "version": 3
   },
   "file_extension": ".py",
   "mimetype": "text/x-python",
   "name": "python",
   "nbconvert_exporter": "python",
   "pygments_lexer": "ipython3",
   "version": "3.9.2rc1"
  }
 },
 "nbformat": 4,
 "nbformat_minor": 2
}
