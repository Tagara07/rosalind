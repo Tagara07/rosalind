{
 "cells": [
  {
   "cell_type": "markdown",
   "metadata": {},
   "source": [
    "[Complementing a Strand of DNA](https://rosalind.info/problems/revc/)"
   ]
  },
  {
   "cell_type": "code",
   "execution_count": 1,
   "metadata": {},
   "outputs": [],
   "source": [
    "with open(r'./data/03_rosalind_revc.txt') as f:\n",
    "    dna_str = f.read()\n",
    "    f.close()"
   ]
  },
  {
   "cell_type": "markdown",
   "metadata": {},
   "source": [
    "Solution 1"
   ]
  },
  {
   "cell_type": "code",
   "execution_count": 2,
   "metadata": {},
   "outputs": [],
   "source": [
    "from Bio.Seq import Seq"
   ]
  },
  {
   "cell_type": "code",
   "execution_count": 3,
   "metadata": {},
   "outputs": [
    {
     "data": {
      "text/plain": [
       "Seq('CGAGTCCTCTCACCTCACCTCTTGGGTGGCAGTTCAGGGTATGACTTCTCGGAC...AA\n",
       "')"
      ]
     },
     "execution_count": 3,
     "metadata": {},
     "output_type": "execute_result"
    }
   ],
   "source": [
    "my_str = Seq(dna_str)\n",
    "my_str"
   ]
  },
  {
   "cell_type": "code",
   "execution_count": 4,
   "metadata": {},
   "outputs": [
    {
     "name": "stdout",
     "output_type": "stream",
     "text": [
      "\n",
      "TTTCCCTACCGACCGCAATCATAGAGATCGGTACGACGTCCGCTGTTTGATTAGAGATAGGTAGAGGCGAGTATACCTCTGGGGAGCGTACGCCGGGCACTGGTCCAAGTTAGCACTAGGACCCCTGTGATGCGTATAGTCGGGATTCAGGATTCCTGCGGAATTGGTCGTGATAGCAAGACGAAGGGCTAGAGGAGTCCATTCTCAAAAGTATGACGTCACAGGATTCGCCCGCGTCATTGAAGGCAGATTCGCCTATGTTCAACTGCGCTAAATATCCAATGCCGTCGTTCCTTTCACCCTACGGGGTCAATTGTTAGTGCACCTGGTTGGTATAGTATCGCTTCTATTTGACAAAGAGTTCTACGTTTGGTGGGAGGCATCATGGTTGCTATCAGGACTCCCCCTGGTGTCGGGTATCTCAAGTGTGCCAGACCGTCAGCTGCCATTTCGTAAGGGCATAGAGTGTATACTTTAATCTCAAATAAAAGAAGGGGCATAGTACTCCCTACGCGGGCATGACGATCAAAGTTTTTTTCCCGTTACTACGGCGTAACTAAGCGGACAGCAAAGTAACTTTGTATTCAATCGGTAGAAAACCCGAATTGGCTAAGCGGGTCTTCCATGGGCGGTTACGGGAGCTACAGCATTAGCCATGGCATGATGCACTCGCTACCGACCGAATCGCTCTGAACATAGCGGTGGCCCCGCGTACGATTTTCTAGCGCTAGTCCTAGTGCGACTTGTCGGGACCCCACAGAGTAACATATTTCACACTTATCATAATACCTAGTAAGACACAGAGGAATTGCAGTGCATCAGAGTGGTGATAAAAGGGGAAGGTGGCCTATCTGAGGATTGGCCTGGAACTTGTCACCTTTGGCACCAGCTTGCGTCATGTTGCACATCGTTTTTACGGATCCTGTCCGAGAAGTCATACCCTGAACTGCCACCCAAGAGGTGAGGTGAGAGGACTCG\n"
     ]
    }
   ],
   "source": [
    "print(my_str.reverse_complement())"
   ]
  },
  {
   "cell_type": "code",
   "execution_count": 5,
   "metadata": {},
   "outputs": [
    {
     "name": "stdout",
     "output_type": "stream",
     "text": [
      "979\n",
      "979\n"
     ]
    }
   ],
   "source": [
    "print(len(dna_str))\n",
    "print(len(my_str.reverse_complement()))"
   ]
  },
  {
   "cell_type": "markdown",
   "metadata": {},
   "source": [
    "Solution 2"
   ]
  },
  {
   "cell_type": "code",
   "execution_count": 6,
   "metadata": {},
   "outputs": [],
   "source": [
    "match_dict = {'A':'T', \n",
    "              'C':'G',\n",
    "              'G':'C',\n",
    "              'T':'A'}"
   ]
  },
  {
   "cell_type": "code",
   "execution_count": 7,
   "metadata": {},
   "outputs": [
    {
     "name": "stdout",
     "output_type": "stream",
     "text": [
      "TTTCCCTACCGACCGCAATCATAGAGATCGGTACGACGTCCGCTGTTTGATTAGAGATAGGTAGAGGCGAGTATACCTCTGGGGAGCGTACGCCGGGCACTGGTCCAAGTTAGCACTAGGACCCCTGTGATGCGTATAGTCGGGATTCAGGATTCCTGCGGAATTGGTCGTGATAGCAAGACGAAGGGCTAGAGGAGTCCATTCTCAAAAGTATGACGTCACAGGATTCGCCCGCGTCATTGAAGGCAGATTCGCCTATGTTCAACTGCGCTAAATATCCAATGCCGTCGTTCCTTTCACCCTACGGGGTCAATTGTTAGTGCACCTGGTTGGTATAGTATCGCTTCTATTTGACAAAGAGTTCTACGTTTGGTGGGAGGCATCATGGTTGCTATCAGGACTCCCCCTGGTGTCGGGTATCTCAAGTGTGCCAGACCGTCAGCTGCCATTTCGTAAGGGCATAGAGTGTATACTTTAATCTCAAATAAAAGAAGGGGCATAGTACTCCCTACGCGGGCATGACGATCAAAGTTTTTTTCCCGTTACTACGGCGTAACTAAGCGGACAGCAAAGTAACTTTGTATTCAATCGGTAGAAAACCCGAATTGGCTAAGCGGGTCTTCCATGGGCGGTTACGGGAGCTACAGCATTAGCCATGGCATGATGCACTCGCTACCGACCGAATCGCTCTGAACATAGCGGTGGCCCCGCGTACGATTTTCTAGCGCTAGTCCTAGTGCGACTTGTCGGGACCCCACAGAGTAACATATTTCACACTTATCATAATACCTAGTAAGACACAGAGGAATTGCAGTGCATCAGAGTGGTGATAAAAGGGGAAGGTGGCCTATCTGAGGATTGGCCTGGAACTTGTCACCTTTGGCACCAGCTTGCGTCATGTTGCACATCGTTTTTACGGATCCTGTCCGAGAAGTCATACCCTGAACTGCCACCCAAGAGGTGAGGTGAGAGGACTCG\n"
     ]
    }
   ],
   "source": [
    "reversed_str = []\n",
    "for nuc in dna_str.replace('\\n', ''):\n",
    "    # print(nuc)\n",
    "    reversed_str.append(match_dict[nuc])\n",
    "\n",
    "reversed_str = ''.join(reversed_str[::-1])\n",
    "print(reversed_str)"
   ]
  },
  {
   "cell_type": "code",
   "execution_count": null,
   "metadata": {},
   "outputs": [],
   "source": []
  }
 ],
 "metadata": {
  "kernelspec": {
   "display_name": "Python 3",
   "language": "python",
   "name": "python3"
  },
  "language_info": {
   "codemirror_mode": {
    "name": "ipython",
    "version": 3
   },
   "file_extension": ".py",
   "mimetype": "text/x-python",
   "name": "python",
   "nbconvert_exporter": "python",
   "pygments_lexer": "ipython3",
   "version": "3.9.2rc1"
  }
 },
 "nbformat": 4,
 "nbformat_minor": 2
}
