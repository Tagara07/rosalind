{
 "cells": [
  {
   "cell_type": "markdown",
   "metadata": {},
   "source": [
    "[Open Reading Frames](https://rosalind.info/problems/orf/)"
   ]
  },
  {
   "cell_type": "code",
   "execution_count": 126,
   "metadata": {},
   "outputs": [],
   "source": [
    "from Bio import SeqIO\n",
    "import re\n",
    "import jun_function as jf"
   ]
  },
  {
   "cell_type": "code",
   "execution_count": 130,
   "metadata": {},
   "outputs": [],
   "source": [
    "rec = list(SeqIO.parse(r'./data/18_rosalind_orf.txt', 'fasta'))[0]"
   ]
  },
  {
   "cell_type": "code",
   "execution_count": 131,
   "metadata": {},
   "outputs": [],
   "source": [
    "def find_ORF(rec):\n",
    "    seq1 = rec.seq\n",
    "    seq2 = rec.reverse_complement().seq\n",
    "    \n",
    "    res = []\n",
    "    pattern = re.compile('[A-Z]*(?<![*])')\n",
    "\n",
    "    for s in [seq1, seq2]:\n",
    "        for i in range(len(s)-5): # 3(ATG) + 2\n",
    "            if s[i:i+3]=='ATG': # initiation codon\n",
    "                # ref=''\n",
    "                s_ATG = str(s[i:].translate())\n",
    "                if '*' in s_ATG:\n",
    "                    res.append(pattern.search(s_ATG).group())\n",
    "\n",
    "    return res"
   ]
  },
  {
   "cell_type": "code",
   "execution_count": 132,
   "metadata": {},
   "outputs": [
    {
     "name": "stderr",
     "output_type": "stream",
     "text": [
      "c:\\Users\\xujun\\AppData\\Local\\Programs\\Python\\Python39\\lib\\site-packages\\Bio\\Seq.py:2804: BiopythonWarning: Partial codon, len(sequence) not a multiple of three. Explicitly trim the sequence or add trailing N before translation. This may become an error in future.\n",
      "  warnings.warn(\n"
     ]
    }
   ],
   "source": [
    "res = find_ORF(rec)\n",
    "result_str = '\\n'.join(list(set(res)))\n",
    "jf.gen_txt(result_str)"
   ]
  }
 ],
 "metadata": {
  "kernelspec": {
   "display_name": "Python 3",
   "language": "python",
   "name": "python3"
  },
  "language_info": {
   "codemirror_mode": {
    "name": "ipython",
    "version": 3
   },
   "file_extension": ".py",
   "mimetype": "text/x-python",
   "name": "python",
   "nbconvert_exporter": "python",
   "pygments_lexer": "ipython3",
   "version": "3.9.2rc1"
  }
 },
 "nbformat": 4,
 "nbformat_minor": 2
}
