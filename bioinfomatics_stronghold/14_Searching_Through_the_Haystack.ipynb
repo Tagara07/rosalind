{
 "cells": [
  {
   "cell_type": "markdown",
   "metadata": {},
   "source": [
    "[Searching Through the Haystack](https://rosalind.info/problems/lcsm/)"
   ]
  },
  {
   "cell_type": "code",
   "execution_count": 8,
   "metadata": {},
   "outputs": [],
   "source": [
    "from Bio import SeqIO\n",
    "from tqdm import tqdm\n",
    "import jun_function as jf"
   ]
  },
  {
   "cell_type": "code",
   "execution_count": 9,
   "metadata": {},
   "outputs": [],
   "source": [
    "recs = list(SeqIO.parse(r'./data/14_rosalind_lcsm.txt', 'fasta'))\n",
    "\n",
    "seq_list = []\n",
    "\n",
    "for rec in recs:\n",
    "    seq_list.append(rec.seq)"
   ]
  },
  {
   "cell_type": "code",
   "execution_count": 10,
   "metadata": {},
   "outputs": [],
   "source": [
    "def find_frag(shortest_seq):\n",
    "    \n",
    "    frags_list = []\n",
    "    \n",
    "    for i in range(len(shortest_seq), 1, -1):\n",
    "        for j in range(0, len(shortest_seq)-i+1):\n",
    "            frags_list.append(shortest_seq[j:j+i])\n",
    "    return frags_list\n",
    "\n",
    "def find_shared_motif(seq_list):\n",
    "    \n",
    "    seq_list.sort(key=len, reverse=True)\n",
    "    \n",
    "    # find the shortest seq\n",
    "    shortest_seq = seq_list[-1]\n",
    "    \n",
    "    frags = find_frag(shortest_seq)\n",
    "    \n",
    "    for frag in frags:\n",
    "        count = 1\n",
    "        for seq in seq_list[:-1]:\n",
    "            if frag in seq:\n",
    "                count+=1\n",
    "        if count == len(seq_list):\n",
    "            return frag\n",
    "    return None"
   ]
  },
  {
   "cell_type": "code",
   "execution_count": 11,
   "metadata": {},
   "outputs": [],
   "source": [
    "shared_motif = find_shared_motif(seq_list)\n",
    "jf.gen_txt(str(shared_motif))"
   ]
  }
 ],
 "metadata": {
  "kernelspec": {
   "display_name": "Python 3",
   "language": "python",
   "name": "python3"
  },
  "language_info": {
   "codemirror_mode": {
    "name": "ipython",
    "version": 3
   },
   "file_extension": ".py",
   "mimetype": "text/x-python",
   "name": "python",
   "nbconvert_exporter": "python",
   "pygments_lexer": "ipython3",
   "version": "3.9.2"
  }
 },
 "nbformat": 4,
 "nbformat_minor": 2
}
