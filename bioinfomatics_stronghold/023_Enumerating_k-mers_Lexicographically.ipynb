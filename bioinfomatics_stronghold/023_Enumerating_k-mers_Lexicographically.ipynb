{
 "cells": [
  {
   "cell_type": "markdown",
   "metadata": {},
   "source": [
    "[Enumerating k-mers Lexicographically](https://rosalind.info/problems/lexf/)"
   ]
  },
  {
   "cell_type": "code",
   "execution_count": 38,
   "metadata": {},
   "outputs": [],
   "source": [
    "import jun_function as jf\n",
    "import itertools"
   ]
  },
  {
   "cell_type": "code",
   "execution_count": 43,
   "metadata": {},
   "outputs": [],
   "source": [
    "with open(r'./data/23_rosalind_lexf.txt') as f:\n",
    "    file = f.readlines()\n",
    "    f.close()\n",
    "\n",
    "alp_str, n = [i for i in file]\n",
    "\n",
    "alp_list = alp_str.replace('\\n', '').split(' ')\n",
    "alp_list\n",
    "n = int(n)"
   ]
  },
  {
   "cell_type": "code",
   "execution_count": 44,
   "metadata": {},
   "outputs": [],
   "source": [
    "def lex_order(alp_list, n):\n",
    "        \n",
    "    lex_list = list(itertools.product(alp_list, repeat=n))\n",
    "    # lex_list\n",
    "    res_str = ''\n",
    "    for i in lex_list:\n",
    "        res_str += ''.join(i) + '\\n'\n",
    "    \n",
    "    return res_str"
   ]
  },
  {
   "cell_type": "code",
   "execution_count": 45,
   "metadata": {},
   "outputs": [],
   "source": [
    "res_str = lex_order(alp_list, n)\n",
    "jf.gen_txt(res_str)"
   ]
  }
 ],
 "metadata": {
  "kernelspec": {
   "display_name": "Python 3",
   "language": "python",
   "name": "python3"
  },
  "language_info": {
   "codemirror_mode": {
    "name": "ipython",
    "version": 3
   },
   "file_extension": ".py",
   "mimetype": "text/x-python",
   "name": "python",
   "nbconvert_exporter": "python",
   "pygments_lexer": "ipython3",
   "version": "3.9.2rc1"
  }
 },
 "nbformat": 4,
 "nbformat_minor": 2
}
