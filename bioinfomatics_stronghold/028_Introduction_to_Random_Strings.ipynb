{
 "cells": [
  {
   "cell_type": "markdown",
   "metadata": {},
   "source": [
    "[Introduction to Random Strings](https://rosalind.info/problems/prob/)"
   ]
  },
  {
   "cell_type": "code",
   "execution_count": 21,
   "metadata": {},
   "outputs": [],
   "source": [
    "from math import log10\n",
    "\n",
    "import jun_function as jf"
   ]
  },
  {
   "cell_type": "code",
   "execution_count": null,
   "metadata": {},
   "outputs": [],
   "source": []
  },
  {
   "cell_type": "code",
   "execution_count": 14,
   "metadata": {},
   "outputs": [],
   "source": [
    "with open(r'./data/demo.txt', 'r') as f:\n",
    "    file = f.readlines()\n",
    "    f.close()"
   ]
  },
  {
   "cell_type": "code",
   "execution_count": 15,
   "metadata": {},
   "outputs": [],
   "source": [
    "seq_str, prob_str = [str for str in file]\n",
    "seq_str = seq_str.replace('\\n', '')\n",
    "prob_list = [float(prob) for prob in prob_str.split()]"
   ]
  },
  {
   "cell_type": "code",
   "execution_count": 18,
   "metadata": {},
   "outputs": [
    {
     "name": "stdout",
     "output_type": "stream",
     "text": [
      "ACGATACAA\n",
      "[0.129, 0.287, 0.423, 0.476, 0.641, 0.742, 0.783]\n"
     ]
    }
   ],
   "source": [
    "print(seq_str)\n",
    "print(prob_list)"
   ]
  },
  {
   "cell_type": "code",
   "execution_count": 35,
   "metadata": {},
   "outputs": [],
   "source": [
    "def gen_prob(seq_str, prob_list):\n",
    "    res_list = []\n",
    "    for prob in prob_list:\n",
    "        gc_prob = prob\n",
    "        at_prob = 1 - prob\n",
    "\n",
    "        gc_num = seq_str.count('G') + seq_str.count('C')\n",
    "        at_num = len(seq_str) - gc_num\n",
    "\n",
    "        prob_new = gc_num * log10(gc_prob*0.5) + at_num * log10(at_prob*0.5)\n",
    "        \n",
    "        res_list.append(round(prob_new, 3))\n",
    "\n",
    "        res_str = ' '.join(str(num) for num in res_list)\n",
    "    \n",
    "    return res_str"
   ]
  },
  {
   "cell_type": "code",
   "execution_count": 38,
   "metadata": {},
   "outputs": [],
   "source": [
    "res_str = gen_prob(seq_str, prob_list)\n",
    "jf.gen_txt(res_str)"
   ]
  }
 ],
 "metadata": {
  "kernelspec": {
   "display_name": "Python 3",
   "language": "python",
   "name": "python3"
  },
  "language_info": {
   "codemirror_mode": {
    "name": "ipython",
    "version": 3
   },
   "file_extension": ".py",
   "mimetype": "text/x-python",
   "name": "python",
   "nbconvert_exporter": "python",
   "pygments_lexer": "ipython3",
   "version": "3.9.2rc1"
  }
 },
 "nbformat": 4,
 "nbformat_minor": 2
}
