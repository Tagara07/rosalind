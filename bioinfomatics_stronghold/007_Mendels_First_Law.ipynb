{
 "cells": [
  {
   "cell_type": "markdown",
   "metadata": {},
   "source": [
    "Mendel's First Law"
   ]
  },
  {
   "cell_type": "code",
   "execution_count": 1,
   "metadata": {},
   "outputs": [],
   "source": [
    "with open(r'./data/07_rosalind_iprb.txt', 'r') as f:\n",
    "    file = f.read()\n",
    "    file_ls = file.replace('\\n', '').split(' ')\n",
    "    k = int(file_ls[0])\n",
    "    m = int(file_ls[1])\n",
    "    n = int(file_ls[2])\n",
    "    f.close()"
   ]
  },
  {
   "cell_type": "code",
   "execution_count": 2,
   "metadata": {},
   "outputs": [],
   "source": [
    "def cal_prob(k, m, n):\n",
    "\n",
    "    s = k + m + n\n",
    "\n",
    "    case1 = n/s * (n-1)/(s-1) # nn\n",
    "    case2 = n/s * m/(s-1) * 0.5 * 2 # nm\n",
    "    case3 = m/s * (m-1)/(s-1) * 0.25 # mm\n",
    "\n",
    "    result = round(1 - (case1 + case2 + case3), 5)\n",
    "    print(k)\n",
    "    print(m)\n",
    "    print(n)\n",
    "    print(result)"
   ]
  },
  {
   "cell_type": "code",
   "execution_count": 3,
   "metadata": {},
   "outputs": [
    {
     "name": "stdout",
     "output_type": "stream",
     "text": [
      "15\n",
      "18\n",
      "21\n",
      "0.69444\n"
     ]
    }
   ],
   "source": [
    "cal_prob(k, m, n)"
   ]
  },
  {
   "cell_type": "code",
   "execution_count": null,
   "metadata": {},
   "outputs": [],
   "source": []
  }
 ],
 "metadata": {
  "kernelspec": {
   "display_name": "Python 3",
   "language": "python",
   "name": "python3"
  },
  "language_info": {
   "codemirror_mode": {
    "name": "ipython",
    "version": 3
   },
   "file_extension": ".py",
   "mimetype": "text/x-python",
   "name": "python",
   "nbconvert_exporter": "python",
   "pygments_lexer": "ipython3",
   "version": "3.9.2rc1"
  }
 },
 "nbformat": 4,
 "nbformat_minor": 2
}
