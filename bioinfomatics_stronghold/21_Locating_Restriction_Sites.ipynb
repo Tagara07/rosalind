{
 "cells": [
  {
   "cell_type": "markdown",
   "metadata": {},
   "source": [
    "[Locating Restriction Sites](https://rosalind.info/problems/revp/)"
   ]
  },
  {
   "cell_type": "code",
   "execution_count": 113,
   "metadata": {},
   "outputs": [],
   "source": [
    "import jun_function as jf\n",
    "\n",
    "from Bio import SeqIO"
   ]
  },
  {
   "cell_type": "code",
   "execution_count": 115,
   "metadata": {},
   "outputs": [],
   "source": [
    "recs = list(SeqIO.parse(r'./data/21_rosalind_revp.txt', 'fasta'))\n",
    "seq_str = recs[0].seq"
   ]
  },
  {
   "cell_type": "code",
   "execution_count": 116,
   "metadata": {},
   "outputs": [],
   "source": [
    "def restriction_sites(seq_str):\n",
    "\n",
    "    res_list = []\n",
    "    \n",
    "    for i in range(len(seq_str)-3):\n",
    "        for seq_len in range(4, 13): \n",
    "            if seq_str[i:i+seq_len] == seq_str[i:i+seq_len].reverse_complement():\n",
    "                if i+seq_len > len(seq_str):\n",
    "                    break\n",
    "                res = str(i+1) + ' ' + str(seq_len) + '\\n'\n",
    "                res_list.append(res)\n",
    "\n",
    "    res_str = ''.join(res_list)\n",
    "    return res_str"
   ]
  },
  {
   "cell_type": "code",
   "execution_count": 117,
   "metadata": {},
   "outputs": [],
   "source": [
    "res_str = restriction_sites(seq_str)\n",
    "jf.gen_txt(res_str)"
   ]
  }
 ],
 "metadata": {
  "kernelspec": {
   "display_name": "Python 3",
   "language": "python",
   "name": "python3"
  },
  "language_info": {
   "codemirror_mode": {
    "name": "ipython",
    "version": 3
   },
   "file_extension": ".py",
   "mimetype": "text/x-python",
   "name": "python",
   "nbconvert_exporter": "python",
   "pygments_lexer": "ipython3",
   "version": "3.9.2rc1"
  }
 },
 "nbformat": 4,
 "nbformat_minor": 2
}
