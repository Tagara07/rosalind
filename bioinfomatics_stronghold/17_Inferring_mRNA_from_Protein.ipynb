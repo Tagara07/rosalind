{
 "cells": [
  {
   "cell_type": "markdown",
   "metadata": {},
   "source": [
    "[Inferring mRNA from Protein](https://rosalind.info/problems/mrna/)"
   ]
  },
  {
   "cell_type": "code",
   "execution_count": 18,
   "metadata": {},
   "outputs": [],
   "source": [
    "import jun_function as jf\n",
    "from Bio.Data import CodonTable"
   ]
  },
  {
   "cell_type": "code",
   "execution_count": 95,
   "metadata": {},
   "outputs": [
    {
     "data": {
      "text/plain": [
       "'MSLWDTHRVGNPFKRGMEMNDMDYHRTEEYNGKYFGGMSFVESFAATWMALWPQGYIIWQWVLIFMKQPGNQYINSRYQHHIHEGFYGENGIIRCEVTRCMIQCKKADSSRNICKSGMKMIAIFKAIEKPEVGTCYDITWPAHTIYHCNDYTQHPFIVYMKLELIFDWHHGTFLVMDDQMVWDTHTISKHALKEVNWNQIRLTYLQVNAITWGWARVFKQWDLPWGDWNKYNQNERNLPWCCYNNYTCTCTDHAWYYQRELKRKFGMPCRNWWSLWSPVKYNDCLQSCDYIVQMNKRSVTFFWYTNMAWFPFWQAAKTTPTIQGQVIHSVLDTQGFVNQVWHHPEQRARRFMSSRHFMKNRWVPEKALNMPHRQVYDYYYTSWQHEEMDIGCVMFQKLVMSTSASARTCGPVMHEISPSINLEWKVNVKNEDGDNYISNTFTRPIGCQFQGQQCPDHHVSNWRGRPSDMAVDTVGMSSKVNRTSWFLYCYIYRFLRHTKHWDIEMWWAVQQWKAWNGQIQPLDFCFFPMVVYSMWFGIDSKLLTHPKACVNHVKSDKLHGFYVMTFNSGESEIFDPIQRQVLLCLDQDWTSSNFSHTDWAKRQFTFNMVHVDTPSDWEKYWPQWPGRNMIFGCDRDFMEHQSNSIYIQSWGMNECYGSPVFFGEVPTKSWVIRSGNQHPGWTLCELWRTCMYRYLMVDFLWLPSQDDKCVVAAFHVWRFMRFDSRLMCVHYTITAWCAVVTTEVNTHKPKGNWLTQWWYGARGPRMSFEQLWTARDMIKCCGLERERCLFDNNDTIRCQEWLVRDCVNFDASGAPDFLHMERHWDWHQGCRARIIPNMKEVTANINGAWEVKGVKDFCAPHMDYCQKNPHHQVCQFNGMVNMDAYGWGNQCPFLKGWEADSRPFSGRRWGFALHFMYCDWGMYIWTPGDANRFQCGSYVDRVYKMCTIFHYFFIHAGKWDGSKIPGAQGFIQHNGCIMVFVSWRESVVLDSLAVGGDS'"
      ]
     },
     "execution_count": 95,
     "metadata": {},
     "output_type": "execute_result"
    }
   ],
   "source": [
    "file = jf.read_data(r'./data/17_rosalind_mrna.txt')\n",
    "protein_str = file.replace('\\n', '')\n",
    "protein_str"
   ]
  },
  {
   "cell_type": "code",
   "execution_count": 96,
   "metadata": {},
   "outputs": [],
   "source": [
    "rna_codons = CodonTable.standard_rna_table\n",
    "\n",
    "# add stop codons\n",
    "# stop_dict = {}\n",
    "# for c in rna_codons.stop_codons:\n",
    "    # stop_dict[c] = '_'\n",
    "\n",
    "codons_dict = rna_codons.forward_table\n",
    "# codons_dict = {**codons_dict, **stop_dict}"
   ]
  },
  {
   "cell_type": "code",
   "execution_count": 97,
   "metadata": {},
   "outputs": [],
   "source": [
    "rna_num = len(rna_codons.stop_codons)\n",
    "\n",
    "for i in protein_str:\n",
    "    pn = 0\n",
    "    for j in codons_dict.values():\n",
    "        if i == j:\n",
    "            pn += 1\n",
    "    rna_num *= pn"
   ]
  },
  {
   "cell_type": "code",
   "execution_count": 98,
   "metadata": {},
   "outputs": [
    {
     "name": "stdout",
     "output_type": "stream",
     "text": [
      "294336\n"
     ]
    }
   ],
   "source": [
    "result = str(rna_num % 1000000)\n",
    "print(result)\n",
    "jf.gen_txt(result)"
   ]
  }
 ],
 "metadata": {
  "kernelspec": {
   "display_name": "Python 3",
   "language": "python",
   "name": "python3"
  },
  "language_info": {
   "codemirror_mode": {
    "name": "ipython",
    "version": 3
   },
   "file_extension": ".py",
   "mimetype": "text/x-python",
   "name": "python",
   "nbconvert_exporter": "python",
   "pygments_lexer": "ipython3",
   "version": "3.9.2rc1"
  }
 },
 "nbformat": 4,
 "nbformat_minor": 2
}
