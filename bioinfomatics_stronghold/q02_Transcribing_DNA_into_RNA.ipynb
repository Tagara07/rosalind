{
 "cells": [
  {
   "cell_type": "markdown",
   "metadata": {},
   "source": [
    "[Transcribing DNA into RNA](https://rosalind.info/problems/rna/)"
   ]
  },
  {
   "cell_type": "code",
   "execution_count": 7,
   "metadata": {},
   "outputs": [],
   "source": [
    "from Bio.Seq import Seq"
   ]
  },
  {
   "cell_type": "code",
   "execution_count": 24,
   "metadata": {},
   "outputs": [],
   "source": [
    "with open(r'./data/q2_rosalind_rna.txt') as f:\n",
    "    dna_str = f.read()\n",
    "    f.close()"
   ]
  },
  {
   "cell_type": "markdown",
   "metadata": {},
   "source": [
    "Solution 1"
   ]
  },
  {
   "cell_type": "code",
   "execution_count": 25,
   "metadata": {},
   "outputs": [
    {
     "data": {
      "text/plain": [
       "Seq('GTGGCCTAACGACAGTATCGTTTATGCATTGTGCAATGGTGACTACCGTCAATC...GG\n",
       "')"
      ]
     },
     "execution_count": 25,
     "metadata": {},
     "output_type": "execute_result"
    }
   ],
   "source": [
    "my_str = Seq(dna_str)\n",
    "my_str"
   ]
  },
  {
   "cell_type": "code",
   "execution_count": 26,
   "metadata": {},
   "outputs": [
    {
     "name": "stdout",
     "output_type": "stream",
     "text": [
      "GUGGCCUAACGACAGUAUCGUUUAUGCAUUGUGCAAUGGUGACUACCGUCAAUCAUAACCUCCACGUAAGAGAGGGCGGCAACCGAUUCUUCAAGGCAUAGAAAUUAGUCCAACUUGUUCCCAGGAAGGUUUAAGCGUCAGCGCUGAGGCGGUGUUUGCAUUCAUCGUUUUACGUUGGGCUCUGUUUCAAAGGCCUGAAUUAACUUCCAAACGGUGCAAAGGCGUCAUCAUAAAAUUUCAGGGAACGGUGGUGGCUGGGUCCACUCGAACGUGCGCCUUGGGUACCGCUACGAGGACCUUUGUGUCGGGGCGCCUGGAUUAAUUCAUGUUUCGGUCGCGUGCCGACGGUCCUUGAGUAUAGGUUCGCCGCAGGCUGAACGUCAAUUUCCCGGAUACGUCGAGCAUGAAUAGGUAAGUCAGCGCGAACCGUUACAAUCCGCACACGUCCGGUUGACGUCAUGUCCAGAUAAGAAUUCCGGGUAGCACUGGGAUUAUGGGCGAGCUAAUGGUCCUCCCACCAAAGUGGUCAGAAUUCUUUUCAAUGCGUCAGACGUUUCGGGCAAGAGAGGAAACGGGCGCGAUAGGAAUAUCCCGUUAUUAGACUGUAUGACCGGAGGGCUGAGGUAUGUGACUCUUCCGUGAUUCCAUCCUGACCCUUACUAUUUUGUCUUUGCUUCGUAGUUUACGCGGAGCCGGCGCCGAGUCCAUCUACAGUCGGGUUGCGUACGAGAGUGUGGCAGCAGUUACACAGAAGAAUAAUGGCUGCGGCGUACCACAGUUUUUUUUGUAGGUGGGAAGUUACGGACCCAAAACUUGAAGGUAUGCGAAACCGAUGGUCUAUGCCGUUCAUUUAAGGAUCACCUCUAAACUUUUGAGGGCCGAGUGAUUAACAUCGGAGCGCCUCUUGAGUCGUCGGAGCAGAGUUGGGGCGGCUUCCAGGCACCCCCCGUAUCUGCUAAGCCAUGGAGGUGCUACGUGGAGUUGCGG\n",
      "\n"
     ]
    }
   ],
   "source": [
    "print(my_str.transcribe())"
   ]
  },
  {
   "cell_type": "code",
   "execution_count": 28,
   "metadata": {},
   "outputs": [
    {
     "name": "stdout",
     "output_type": "stream",
     "text": [
      "988\n",
      "988\n"
     ]
    }
   ],
   "source": [
    "print(len(dna_str))\n",
    "print(len(my_str))"
   ]
  },
  {
   "cell_type": "markdown",
   "metadata": {},
   "source": [
    "Solution 2 "
   ]
  },
  {
   "cell_type": "code",
   "execution_count": 27,
   "metadata": {},
   "outputs": [
    {
     "name": "stdout",
     "output_type": "stream",
     "text": [
      "GUGGCCUAACGACAGUAUCGUUUAUGCAUUGUGCAAUGGUGACUACCGUCAAUCAUAACCUCCACGUAAGAGAGGGCGGCAACCGAUUCUUCAAGGCAUAGAAAUUAGUCCAACUUGUUCCCAGGAAGGUUUAAGCGUCAGCGCUGAGGCGGUGUUUGCAUUCAUCGUUUUACGUUGGGCUCUGUUUCAAAGGCCUGAAUUAACUUCCAAACGGUGCAAAGGCGUCAUCAUAAAAUUUCAGGGAACGGUGGUGGCUGGGUCCACUCGAACGUGCGCCUUGGGUACCGCUACGAGGACCUUUGUGUCGGGGCGCCUGGAUUAAUUCAUGUUUCGGUCGCGUGCCGACGGUCCUUGAGUAUAGGUUCGCCGCAGGCUGAACGUCAAUUUCCCGGAUACGUCGAGCAUGAAUAGGUAAGUCAGCGCGAACCGUUACAAUCCGCACACGUCCGGUUGACGUCAUGUCCAGAUAAGAAUUCCGGGUAGCACUGGGAUUAUGGGCGAGCUAAUGGUCCUCCCACCAAAGUGGUCAGAAUUCUUUUCAAUGCGUCAGACGUUUCGGGCAAGAGAGGAAACGGGCGCGAUAGGAAUAUCCCGUUAUUAGACUGUAUGACCGGAGGGCUGAGGUAUGUGACUCUUCCGUGAUUCCAUCCUGACCCUUACUAUUUUGUCUUUGCUUCGUAGUUUACGCGGAGCCGGCGCCGAGUCCAUCUACAGUCGGGUUGCGUACGAGAGUGUGGCAGCAGUUACACAGAAGAAUAAUGGCUGCGGCGUACCACAGUUUUUUUUGUAGGUGGGAAGUUACGGACCCAAAACUUGAAGGUAUGCGAAACCGAUGGUCUAUGCCGUUCAUUUAAGGAUCACCUCUAAACUUUUGAGGGCCGAGUGAUUAACAUCGGAGCGCCUCUUGAGUCGUCGGAGCAGAGUUGGGGCGGCUUCCAGGCACCCCCCGUAUCUGCUAAGCCAUGGAGGUGCUACGUGGAGUUGCGG\n",
      "\n"
     ]
    }
   ],
   "source": [
    "rna_str = dna_str.replace('T', 'U')\n",
    "print(rna_str)"
   ]
  }
 ],
 "metadata": {
  "kernelspec": {
   "display_name": "Python 3",
   "language": "python",
   "name": "python3"
  },
  "language_info": {
   "codemirror_mode": {
    "name": "ipython",
    "version": 3
   },
   "file_extension": ".py",
   "mimetype": "text/x-python",
   "name": "python",
   "nbconvert_exporter": "python",
   "pygments_lexer": "ipython3",
   "version": "3.9.2"
  }
 },
 "nbformat": 4,
 "nbformat_minor": 2
}
