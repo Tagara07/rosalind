{
 "cells": [
  {
   "cell_type": "markdown",
   "metadata": {},
   "source": [
    "[Transcribing DNA into RNA](https://rosalind.info/problems/rna/)"
   ]
  },
  {
   "cell_type": "code",
   "execution_count": 1,
   "metadata": {},
   "outputs": [],
   "source": [
    "from Bio.Seq import Seq"
   ]
  },
  {
   "cell_type": "code",
   "execution_count": 2,
   "metadata": {},
   "outputs": [],
   "source": [
    "with open(r'./data/02_rosalind_rna.txt') as f:\n",
    "    dna_str = f.read()\n",
    "    f.close()"
   ]
  },
  {
   "cell_type": "markdown",
   "metadata": {},
   "source": [
    "Solution 1"
   ]
  },
  {
   "cell_type": "code",
   "execution_count": 3,
   "metadata": {},
   "outputs": [
    {
     "data": {
      "text/plain": [
       "Seq('GTGGCCTAACGACAGTATCGTTTATGCATTGTGCAATGGTGACTACCGTCAATC...GG\n",
       "')"
      ]
     },
     "execution_count": 3,
     "metadata": {},
     "output_type": "execute_result"
    }
   ],
   "source": [
    "my_str = Seq(dna_str)\n",
    "my_str"
   ]
  },
  {
   "cell_type": "code",
   "execution_count": 4,
   "metadata": {},
   "outputs": [
    {
     "name": "stdout",
     "output_type": "stream",
     "text": [
      "GUGGCCUAACGACAGUAUCGUUUAUGCAUUGUGCAAUGGUGACUACCGUCAAUCAUAACCUCCACGUAAGAGAGGGCGGCAACCGAUUCUUCAAGGCAUAGAAAUUAGUCCAACUUGUUCCCAGGAAGGUUUAAGCGUCAGCGCUGAGGCGGUGUUUGCAUUCAUCGUUUUACGUUGGGCUCUGUUUCAAAGGCCUGAAUUAACUUCCAAACGGUGCAAAGGCGUCAUCAUAAAAUUUCAGGGAACGGUGGUGGCUGGGUCCACUCGAACGUGCGCCUUGGGUACCGCUACGAGGACCUUUGUGUCGGGGCGCCUGGAUUAAUUCAUGUUUCGGUCGCGUGCCGACGGUCCUUGAGUAUAGGUUCGCCGCAGGCUGAACGUCAAUUUCCCGGAUACGUCGAGCAUGAAUAGGUAAGUCAGCGCGAACCGUUACAAUCCGCACACGUCCGGUUGACGUCAUGUCCAGAUAAGAAUUCCGGGUAGCACUGGGAUUAUGGGCGAGCUAAUGGUCCUCCCACCAAAGUGGUCAGAAUUCUUUUCAAUGCGUCAGACGUUUCGGGCAAGAGAGGAAACGGGCGCGAUAGGAAUAUCCCGUUAUUAGACUGUAUGACCGGAGGGCUGAGGUAUGUGACUCUUCCGUGAUUCCAUCCUGACCCUUACUAUUUUGUCUUUGCUUCGUAGUUUACGCGGAGCCGGCGCCGAGUCCAUCUACAGUCGGGUUGCGUACGAGAGUGUGGCAGCAGUUACACAGAAGAAUAAUGGCUGCGGCGUACCACAGUUUUUUUUGUAGGUGGGAAGUUACGGACCCAAAACUUGAAGGUAUGCGAAACCGAUGGUCUAUGCCGUUCAUUUAAGGAUCACCUCUAAACUUUUGAGGGCCGAGUGAUUAACAUCGGAGCGCCUCUUGAGUCGUCGGAGCAGAGUUGGGGCGGCUUCCAGGCACCCCCCGUAUCUGCUAAGCCAUGGAGGUGCUACGUGGAGUUGCGG\n",
      "\n"
     ]
    }
   ],
   "source": [
    "print(my_str.transcribe())"
   ]
  },
  {
   "cell_type": "code",
   "execution_count": 5,
   "metadata": {},
   "outputs": [
    {
     "name": "stdout",
     "output_type": "stream",
     "text": [
      "988\n",
      "988\n"
     ]
    }
   ],
   "source": [
    "print(len(dna_str))\n",
    "print(len(my_str))"
   ]
  },
  {
   "cell_type": "markdown",
   "metadata": {},
   "source": [
    "Solution 2 "
   ]
  },
  {
   "cell_type": "code",
   "execution_count": 6,
   "metadata": {},
   "outputs": [
    {
     "name": "stdout",
     "output_type": "stream",
     "text": [
      "GUGGCCUAACGACAGUAUCGUUUAUGCAUUGUGCAAUGGUGACUACCGUCAAUCAUAACCUCCACGUAAGAGAGGGCGGCAACCGAUUCUUCAAGGCAUAGAAAUUAGUCCAACUUGUUCCCAGGAAGGUUUAAGCGUCAGCGCUGAGGCGGUGUUUGCAUUCAUCGUUUUACGUUGGGCUCUGUUUCAAAGGCCUGAAUUAACUUCCAAACGGUGCAAAGGCGUCAUCAUAAAAUUUCAGGGAACGGUGGUGGCUGGGUCCACUCGAACGUGCGCCUUGGGUACCGCUACGAGGACCUUUGUGUCGGGGCGCCUGGAUUAAUUCAUGUUUCGGUCGCGUGCCGACGGUCCUUGAGUAUAGGUUCGCCGCAGGCUGAACGUCAAUUUCCCGGAUACGUCGAGCAUGAAUAGGUAAGUCAGCGCGAACCGUUACAAUCCGCACACGUCCGGUUGACGUCAUGUCCAGAUAAGAAUUCCGGGUAGCACUGGGAUUAUGGGCGAGCUAAUGGUCCUCCCACCAAAGUGGUCAGAAUUCUUUUCAAUGCGUCAGACGUUUCGGGCAAGAGAGGAAACGGGCGCGAUAGGAAUAUCCCGUUAUUAGACUGUAUGACCGGAGGGCUGAGGUAUGUGACUCUUCCGUGAUUCCAUCCUGACCCUUACUAUUUUGUCUUUGCUUCGUAGUUUACGCGGAGCCGGCGCCGAGUCCAUCUACAGUCGGGUUGCGUACGAGAGUGUGGCAGCAGUUACACAGAAGAAUAAUGGCUGCGGCGUACCACAGUUUUUUUUGUAGGUGGGAAGUUACGGACCCAAAACUUGAAGGUAUGCGAAACCGAUGGUCUAUGCCGUUCAUUUAAGGAUCACCUCUAAACUUUUGAGGGCCGAGUGAUUAACAUCGGAGCGCCUCUUGAGUCGUCGGAGCAGAGUUGGGGCGGCUUCCAGGCACCCCCCGUAUCUGCUAAGCCAUGGAGGUGCUACGUGGAGUUGCGG\n",
      "\n"
     ]
    }
   ],
   "source": [
    "rna_str = dna_str.replace('T', 'U')\n",
    "print(rna_str)"
   ]
  }
 ],
 "metadata": {
  "kernelspec": {
   "display_name": "Python 3",
   "language": "python",
   "name": "python3"
  },
  "language_info": {
   "codemirror_mode": {
    "name": "ipython",
    "version": 3
   },
   "file_extension": ".py",
   "mimetype": "text/x-python",
   "name": "python",
   "nbconvert_exporter": "python",
   "pygments_lexer": "ipython3",
   "version": "3.9.2rc1"
  }
 },
 "nbformat": 4,
 "nbformat_minor": 2
}
