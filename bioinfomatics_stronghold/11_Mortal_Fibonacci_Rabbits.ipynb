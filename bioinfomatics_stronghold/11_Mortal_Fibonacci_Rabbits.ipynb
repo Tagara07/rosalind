{
 "cells": [
  {
   "cell_type": "markdown",
   "metadata": {},
   "source": [
    "[Mortal Fibonacci Rabbits](https://rosalind.info/problems/fibd/)"
   ]
  },
  {
   "cell_type": "code",
   "execution_count": 49,
   "metadata": {},
   "outputs": [],
   "source": [
    "import jun_function as jf"
   ]
  },
  {
   "cell_type": "code",
   "execution_count": 119,
   "metadata": {},
   "outputs": [
    {
     "name": "stdout",
     "output_type": "stream",
     "text": [
      "100\n",
      "16\n"
     ]
    }
   ],
   "source": [
    "file = jf.read_data(r'./data/11_rosalind_fibd.txt')\n",
    "file = file.replace('\\n', '')\n",
    "n, m  = [int(i) for i in file.split()]\n",
    "print(n)\n",
    "print(m)"
   ]
  },
  {
   "cell_type": "code",
   "execution_count": 120,
   "metadata": {},
   "outputs": [],
   "source": [
    "f_list = [0, 1, 1]\n",
    "def fib(n, m):\n",
    "    for i in range(3, n+1):\n",
    "        \n",
    "        if i <= m:\n",
    "            f_list.append(f_list[i-1] + f_list[i-2])\n",
    "        elif i == m + 1:\n",
    "            f_list.append(f_list[i-1] + f_list[i-2] - 1)\n",
    "        else:\n",
    "            f_list.append(f_list[i-1] + f_list[i-2] - f_list[i-1-m])\n",
    "    \n",
    "    print(f'n: {n}, m: {m}, ans: {f_list[-1]}')"
   ]
  },
  {
   "cell_type": "code",
   "execution_count": 121,
   "metadata": {},
   "outputs": [
    {
     "name": "stdout",
     "output_type": "stream",
     "text": [
      "n: 100, m: 16, ans: 348102173637223073109\n"
     ]
    }
   ],
   "source": [
    "fib(n, m)"
   ]
  }
 ],
 "metadata": {
  "kernelspec": {
   "display_name": "Python 3",
   "language": "python",
   "name": "python3"
  },
  "language_info": {
   "codemirror_mode": {
    "name": "ipython",
    "version": 3
   },
   "file_extension": ".py",
   "mimetype": "text/x-python",
   "name": "python",
   "nbconvert_exporter": "python",
   "pygments_lexer": "ipython3",
   "version": "3.9.2rc1"
  }
 },
 "nbformat": 4,
 "nbformat_minor": 2
}
